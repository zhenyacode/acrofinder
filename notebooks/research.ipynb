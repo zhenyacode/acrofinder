{
 "cells": [
  {
   "cell_type": "markdown",
   "id": "e756ad94",
   "metadata": {},
   "source": [
    "### 1. Установка\n",
    "Клонируем репозиторий и переходим в нужную директорию."
   ]
  },
  {
   "cell_type": "code",
   "execution_count": null,
   "id": "10ea6295",
   "metadata": {},
   "outputs": [],
   "source": [
    "# Клонируем репозиторий\n",
    "!git clone https://github.com/zhenyacode/acrofinder.git\n",
    "\n",
    "# Переходим в папку проекта\n",
    "%cd acrofinder"
   ]
  },
  {
   "cell_type": "markdown",
   "id": "61196d3d",
   "metadata": {},
   "source": [
    "### 2. Загрузка большого словаря\n",
    "Загружаем самый большой словарь словоформ"
   ]
  },
  {
   "cell_type": "code",
   "execution_count": null,
   "id": "a84c40b8",
   "metadata": {},
   "outputs": [],
   "source": []
  },
  {
   "cell_type": "markdown",
   "id": "7205cd18",
   "metadata": {},
   "source": [
    "### 3. Загружаем все данные"
   ]
  },
  {
   "cell_type": "code",
   "execution_count": null,
   "id": "063a41ca",
   "metadata": {},
   "outputs": [],
   "source": []
  }
 ],
 "metadata": {
  "language_info": {
   "name": "python"
  }
 },
 "nbformat": 4,
 "nbformat_minor": 5
}
