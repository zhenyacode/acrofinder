{
 "cells": [
  {
   "cell_type": "code",
   "execution_count": 1,
   "id": "1e8b6033",
   "metadata": {},
   "outputs": [],
   "source": [
    "import sys\n",
    "from pathlib import Path\n",
    "\n",
    "# Добавляем папку src в sys.path\n",
    "project_path = Path().resolve().parent\n",
    "src_path = project_path / \"src\"\n",
    "sys.path.insert(0, str(src_path))\n",
    "\n",
    "\n",
    "from acrofinder.batch_scanner import BatchScanner\n",
    "from acrofinder.scanner import Scanner\n",
    "\n",
    "\n",
    "s = Scanner(min_word_size=5, dictionary_name='wordforms_20k.txt')\n",
    "\n",
    "text_folder = project_path / \"data\" / \"texts\"\n",
    "batch_s = BatchScanner(scanner=s, directory_path=text_folder)"
   ]
  },
  {
   "cell_type": "code",
   "execution_count": 2,
   "id": "6b108678",
   "metadata": {},
   "outputs": [
    {
     "data": {
      "application/vnd.jupyter.widget-view+json": {
       "model_id": "5761abf25e57447ea47ccf1b888d2914",
       "version_major": 2,
       "version_minor": 0
      },
      "text/plain": [
       "Processing files:   0%|          | 0/17 [00:00<?, ?it/s]"
      ]
     },
     "metadata": {},
     "output_type": "display_data"
    },
    {
     "name": "stdout",
     "output_type": "stream",
     "text": [
      "✅ Результаты сохранены: 250917_1758110423_results.csv\n",
      "📄 Отчёт сохранён: 250917_1758110423_meta.txt\n"
     ]
    }
   ],
   "source": [
    "full = ['word', 'paragraph', 'sentence']\n",
    "min = ['paragraph']\n",
    "\n",
    "res = batch_s.scan_directory(levels=full, filter_by_neighbours=True, min_neighbour_len=4)"
   ]
  },
  {
   "cell_type": "code",
   "execution_count": 3,
   "id": "5d2e3d40",
   "metadata": {},
   "outputs": [
    {
     "data": {
      "text/html": [
       "<div>\n",
       "<style scoped>\n",
       "    .dataframe tbody tr th:only-of-type {\n",
       "        vertical-align: middle;\n",
       "    }\n",
       "\n",
       "    .dataframe tbody tr th {\n",
       "        vertical-align: top;\n",
       "    }\n",
       "\n",
       "    .dataframe thead th {\n",
       "        text-align: right;\n",
       "    }\n",
       "</style>\n",
       "<table border=\"1\" class=\"dataframe\">\n",
       "  <thead>\n",
       "    <tr style=\"text-align: right;\">\n",
       "      <th></th>\n",
       "      <th>start_pos</th>\n",
       "      <th>n_gram_size</th>\n",
       "      <th>word</th>\n",
       "      <th>vicinity</th>\n",
       "      <th>neighbour</th>\n",
       "      <th>context</th>\n",
       "      <th>level</th>\n",
       "      <th>source_file</th>\n",
       "    </tr>\n",
       "  </thead>\n",
       "  <tbody>\n",
       "    <tr>\n",
       "      <th>0</th>\n",
       "      <td>255947</td>\n",
       "      <td>5</td>\n",
       "      <td>втуне</td>\n",
       "      <td>зчине_ВТУНЕ_бикос</td>\n",
       "      <td>чине</td>\n",
       "      <td>в то утро, напекут ему булочек и</td>\n",
       "      <td>word</td>\n",
       "      <td>goncharov_oblomov.txt</td>\n",
       "    </tr>\n",
       "    <tr>\n",
       "      <th>1</th>\n",
       "      <td>5208</td>\n",
       "      <td>5</td>\n",
       "      <td>свист</td>\n",
       "      <td>оникл_СВИСТ_уголк</td>\n",
       "      <td>угол</td>\n",
       "      <td>считали все изменения способными только увеличить</td>\n",
       "      <td>word</td>\n",
       "      <td>gorky_mat.txt</td>\n",
       "    </tr>\n",
       "    <tr>\n",
       "      <th>2</th>\n",
       "      <td>222190</td>\n",
       "      <td>5</td>\n",
       "      <td>вдвое</td>\n",
       "      <td>кзсив_ВДВОЕ_винок</td>\n",
       "      <td>вино</td>\n",
       "      <td>время держался в отношении его вызывающе</td>\n",
       "      <td>word</td>\n",
       "      <td>sholokhov_tikhiy_don_3_4.txt</td>\n",
       "    </tr>\n",
       "    <tr>\n",
       "      <th>3</th>\n",
       "      <td>667996</td>\n",
       "      <td>5</td>\n",
       "      <td>свист</td>\n",
       "      <td>тсбпэ_СВИСТ_оконм</td>\n",
       "      <td>окон</td>\n",
       "      <td>спасение во имя собственного таланта, о котором,</td>\n",
       "      <td>word</td>\n",
       "      <td>solzhenitsyn_rakoviy_korpus.txt</td>\n",
       "    </tr>\n",
       "  </tbody>\n",
       "</table>\n",
       "</div>"
      ],
      "text/plain": [
       "  start_pos n_gram_size   word           vicinity neighbour  \\\n",
       "0    255947           5  втуне  зчине_ВТУНЕ_бикос      чине   \n",
       "1      5208           5  свист  оникл_СВИСТ_уголк      угол   \n",
       "2    222190           5  вдвое  кзсив_ВДВОЕ_винок      вино   \n",
       "3    667996           5  свист  тсбпэ_СВИСТ_оконм      окон   \n",
       "\n",
       "                                              context level  \\\n",
       "0                   в то утро, напекут ему булочек и   word   \n",
       "1  считали все изменения способными только увеличить   word   \n",
       "2           время держался в отношении его вызывающе   word   \n",
       "3    спасение во имя собственного таланта, о котором,  word   \n",
       "\n",
       "                       source_file  \n",
       "0            goncharov_oblomov.txt  \n",
       "1                    gorky_mat.txt  \n",
       "2     sholokhov_tikhiy_don_3_4.txt  \n",
       "3  solzhenitsyn_rakoviy_korpus.txt  "
      ]
     },
     "metadata": {},
     "output_type": "display_data"
    }
   ],
   "source": [
    "import pandas as pd\n",
    "\n",
    "with pd.option_context(\n",
    "    'display.max_rows', None,\n",
    "    'display.max_columns', None,\n",
    "    'display.width', None,\n",
    "    'display.max_colwidth', None\n",
    "):\n",
    "    display(res)  # или просто df — в Jupyter display вызывается автоматически\n",
    "\n",
    "# res"
   ]
  },
  {
   "cell_type": "code",
   "execution_count": null,
   "id": "37829ac2",
   "metadata": {},
   "outputs": [],
   "source": []
  }
 ],
 "metadata": {
  "kernelspec": {
   "display_name": "Python 3",
   "language": "python",
   "name": "python3"
  },
  "language_info": {
   "codemirror_mode": {
    "name": "ipython",
    "version": 3
   },
   "file_extension": ".py",
   "mimetype": "text/x-python",
   "name": "python",
   "nbconvert_exporter": "python",
   "pygments_lexer": "ipython3",
   "version": "3.11.9"
  }
 },
 "nbformat": 4,
 "nbformat_minor": 5
}
