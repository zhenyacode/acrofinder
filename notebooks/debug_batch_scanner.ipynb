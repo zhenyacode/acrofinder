{
 "cells": [
  {
   "cell_type": "code",
   "execution_count": 1,
   "id": "1e8b6033",
   "metadata": {},
   "outputs": [],
   "source": [
    "import sys\n",
    "from pathlib import Path\n",
    "\n",
    "# Добавляем папку src в sys.path\n",
    "project_path = Path().resolve().parent\n",
    "src_path = project_path / \"src\"\n",
    "sys.path.insert(0, str(src_path))\n",
    "\n",
    "\n",
    "from acrofinder.batch_scanner import BatchScanner\n",
    "from acrofinder.scanner import Scanner\n",
    "\n",
    "\n",
    "s = Scanner(min_word_sizes=[7], dictionary_name='wordforms_20k.txt')\n",
    "\n",
    "text_folder = project_path / \"data\" / \"texts\"\n",
    "batch_s = BatchScanner(scanner=s, directory_path=text_folder)"
   ]
  },
  {
   "cell_type": "code",
   "execution_count": 2,
   "id": "6b108678",
   "metadata": {},
   "outputs": [
    {
     "name": "stderr",
     "output_type": "stream",
     "text": [
      "Processing files: 100%|██████████| 336/336 [01:11<00:00,  4.69it/s]\n"
     ]
    }
   ],
   "source": [
    "res = batch_s.scan_directory()"
   ]
  },
  {
   "cell_type": "code",
   "execution_count": 3,
   "id": "e357cf68",
   "metadata": {},
   "outputs": [],
   "source": [
    "res.to_csv('results.csv')"
   ]
  },
  {
   "cell_type": "code",
   "execution_count": null,
   "id": "5d2e3d40",
   "metadata": {},
   "outputs": [],
   "source": [
    "res"
   ]
  }
 ],
 "metadata": {
  "kernelspec": {
   "display_name": "Python 3",
   "language": "python",
   "name": "python3"
  },
  "language_info": {
   "codemirror_mode": {
    "name": "ipython",
    "version": 3
   },
   "file_extension": ".py",
   "mimetype": "text/x-python",
   "name": "python",
   "nbconvert_exporter": "python",
   "pygments_lexer": "ipython3",
   "version": "3.11.9"
  }
 },
 "nbformat": 4,
 "nbformat_minor": 5
}
