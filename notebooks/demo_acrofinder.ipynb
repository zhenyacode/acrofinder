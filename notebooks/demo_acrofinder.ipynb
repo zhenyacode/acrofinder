{
 "cells": [
  {
   "cell_type": "markdown",
   "id": "467a3b92",
   "metadata": {},
   "source": [
    "### 1. Установка\n",
    "Клонируем репозиторий и переходим в нужную директорию.\n"
   ]
  },
  {
   "cell_type": "code",
   "execution_count": null,
   "id": "4330a1f9",
   "metadata": {},
   "outputs": [],
   "source": [
    "# Клонируем репозиторий\n",
    "!git clone https://github.com/zhenyacode/acrofinder.git\n",
    "\n",
    "# Переходим в папку проекта\n",
    "%cd acrofinder"
   ]
  },
  {
   "cell_type": "markdown",
   "id": "e20e4e62",
   "metadata": {},
   "source": [
    "### 2. Подготовка данных\n",
    "\n",
    "Все тексты должны находиться в папке data/texts/. В репозитории уже есть примеры. Вы можете удалить их и загрузить свои файлы через файловый менеджер Colab (слева) в /content/acrofinder/data/texts/.\n",
    "\n",
    "Посмотрим, что уже есть:"
   ]
  },
  {
   "cell_type": "code",
   "execution_count": null,
   "id": "aed85eab",
   "metadata": {},
   "outputs": [],
   "source": [
    "!ls data/texts/"
   ]
  },
  {
   "cell_type": "markdown",
   "id": "7c78f560",
   "metadata": {},
   "source": [
    "### 3. Запуск поиска одной командой\n",
    "\n",
    "**Пример 1: Базовый поиск**\n",
    "\n",
    "Ищем акростихи длиной от 4 букв на уровне слов и предложений, используя стандартный словарь."
   ]
  },
  {
   "cell_type": "code",
   "execution_count": null,
   "id": "77da76b2",
   "metadata": {},
   "outputs": [],
   "source": [
    "%run scripts/scan.py --input data/texts/ --levels word sentence --minlen 4"
   ]
  },
  {
   "cell_type": "markdown",
   "id": "b481aeff",
   "metadata": {},
   "source": [
    "**Пример 2: Расширенный поиск с фильтрацией соседей**\n",
    "\n",
    "Чтобы уменьшить количество случайных совпадений, включим фильтр по соседним словам. Будем оставлять только те акростихи, рядом с которыми (слева или справа) есть ещё хотя бы одно слово из словаря длиной от 2 букв."
   ]
  },
  {
   "cell_type": "code",
   "execution_count": null,
   "id": "faa43d1f",
   "metadata": {},
   "outputs": [],
   "source": [
    "%run scripts/scan.py \\\n",
    "  --input data/texts/ \\\n",
    "  --levels word sentence \\\n",
    "  --minlen 4 \\\n",
    "  --neighbours True \\\n",
    "  --minneighbourlen 2"
   ]
  },
  {
   "cell_type": "markdown",
   "id": "1df50e98",
   "metadata": {},
   "source": [
    "**Пример 3: Поиск конкретных слов**\n",
    "\n",
    "Если вы хотите найти только определённые слова (например, имена), используйте параметр `--custom_dict.`\n",
    "\n",
    "\n"
   ]
  },
  {
   "cell_type": "code",
   "execution_count": null,
   "id": "e806629d",
   "metadata": {},
   "outputs": [],
   "source": [
    "%run scripts/scan.py \\\n",
    "  --input data/texts/ \\\n",
    "  --levels word \\\n",
    "  --minlen 3 \\\n",
    "  --custom_dict \"ваши слова здесь\""
   ]
  },
  {
   "cell_type": "markdown",
   "id": "e8085ac3",
   "metadata": {},
   "source": [
    "### 4. Просмотр результатов\n",
    "\n",
    "После выполнения скрипта результаты автоматически сохраняются в папку data/results/ в формате CSV. Давайте посмотрим, что получилось.\n",
    "\n",
    "**Обратите внимание:** Имена файлов, в которых хранятся результаты выглядят так: `'YYMMDD_TIMESTAMP_results.csv'` (для того, чтобы результаты разных поисков сохранялись в разные файлы, и более поздние поиски располагались ниже в списке файлов)"
   ]
  },
  {
   "cell_type": "code",
   "execution_count": 3,
   "id": "c033eefc",
   "metadata": {},
   "outputs": [
    {
     "name": "stdout",
     "output_type": "stream",
     "text": [
      "Файл результатов не найден. Проверьте имя файла или запустите скрипт заново.\n"
     ]
    }
   ],
   "source": [
    "import pandas as pd\n",
    "\n",
    "# Замените 'YYMMDD_TIMESTAMP_results.csv' на имя вашего файла\n",
    "results_file = \"data/results/YYMMDD_TIMESTAMP_results.csv\"  # <-- ВСТАВЬТЕ СЮДА ИМЯ ФАЙЛА\n",
    "\n",
    "try:\n",
    "    df = pd.read_csv(results_file)\n",
    "    print(f\"Найдено {len(df)} кандидатов:\")\n",
    "    df\n",
    "except FileNotFoundError:\n",
    "    print(\"Файл результатов не найден. Проверьте имя файла или запустите скрипт заново.\")"
   ]
  },
  {
   "cell_type": "markdown",
   "id": "f96dfc4e",
   "metadata": {},
   "source": [
    "### 5. Как протестировать на своих текстах\n",
    "\n",
    "- Загрузите ваши .txt файлы в папку /content/acrofinder/data/texts/ через файловый менеджер Colab.\n",
    "- Запустите ячейку с командой %run scripts/scan.py ... (раздел 3), задав необходимые параметры.\n",
    "- Результаты появятся в /content/acrofinder/data/results/. Вы можете скачать CSV-файл прямо из Colab."
   ]
  },
  {
   "cell_type": "markdown",
   "id": "05ec4fa9",
   "metadata": {},
   "source": [
    "### 6. Справка по командам\n",
    "\n",
    "Чтобы увидеть полный список всех доступных параметров и их описание, запустите скрипт с флагом -h или --help."
   ]
  },
  {
   "cell_type": "code",
   "execution_count": null,
   "id": "bcb04962",
   "metadata": {},
   "outputs": [],
   "source": [
    "%run scripts/scan.py --help"
   ]
  }
 ],
 "metadata": {
  "kernelspec": {
   "display_name": "Python 3",
   "language": "python",
   "name": "python3"
  },
  "language_info": {
   "codemirror_mode": {
    "name": "ipython",
    "version": 3
   },
   "file_extension": ".py",
   "mimetype": "text/x-python",
   "name": "python",
   "nbconvert_exporter": "python",
   "pygments_lexer": "ipython3",
   "version": "3.11.9"
  }
 },
 "nbformat": 4,
 "nbformat_minor": 5
}
