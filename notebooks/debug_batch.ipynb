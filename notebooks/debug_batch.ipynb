{
 "cells": [
  {
   "cell_type": "code",
   "execution_count": null,
   "id": "9878f94f",
   "metadata": {},
   "outputs": [],
   "source": [
    "import sys\n",
    "from pathlib import Path\n",
    "\n",
    "# Добавляем папку src в sys.path\n",
    "project_path = Path().resolve().parent\n",
    "src_path = project_path / \"src\"\n",
    "sys.path.insert(0, str(src_path))\n",
    "\n",
    "\n",
    "from acrofinder.batch_scanner import BatchScanner\n",
    "from acrofinder.scanner import Scanner\n",
    "\n",
    "\n",
    "s = Scanner(min_word_size=5, dictionary_name='wordforms_20k.txt')\n",
    "\n",
    "text_folder = project_path / \"data\" / \"texts\"\n",
    "batch_s = BatchScanner(scanner=s, directory_path=text_folder)\n"
   ]
  },
  {
   "cell_type": "code",
   "execution_count": null,
   "id": "18ec38fd",
   "metadata": {},
   "outputs": [],
   "source": [
    "full = ['word', 'paragraph', 'sentence']\n",
    "min = ['paragraph']\n",
    "\n",
    "res = batch_s.scan_directory(levels=full, filter_by_neighbours=True, min_neighbour_len=4)\n"
   ]
  },
  {
   "cell_type": "code",
   "execution_count": null,
   "id": "7b6f93e2",
   "metadata": {},
   "outputs": [],
   "source": [
    "import pandas as pd\n",
    "\n",
    "with pd.option_context(\n",
    "    'display.max_rows', None,\n",
    "    'display.max_columns', None,\n",
    "    'display.width', None,\n",
    "    'display.max_colwidth', None\n",
    "):\n",
    "    display(res)  # или просто df — в Jupyter display вызывается автоматически\n",
    "\n",
    "# res"
   ]
  }
 ],
 "metadata": {
  "kernelspec": {
   "display_name": "Python 3",
   "language": "python",
   "name": "python3"
  },
  "language_info": {
   "name": "python",
   "version": "3.11.9"
  }
 },
 "nbformat": 4,
 "nbformat_minor": 5
}
