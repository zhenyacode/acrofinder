{
 "cells": [
  {
   "cell_type": "code",
   "execution_count": 3,
   "id": "88a75a6a",
   "metadata": {},
   "outputs": [],
   "source": [
    "import sys\n",
    "from pathlib import Path\n",
    "\n",
    "# Добавляем папку src в sys.path\n",
    "src_path = Path().resolve().parent / \"src\"\n",
    "\n",
    "sys.path.insert(0, str(src_path))\n",
    "\n",
    "from acrofinder.scanner import Scanner\n",
    "\n",
    "s = Scanner(min_word_size=1, dictionary_name='wordforms_20k.txt', custom_dict_search=['н'])"
   ]
  },
  {
   "cell_type": "code",
   "execution_count": 4,
   "id": "138578d5",
   "metadata": {},
   "outputs": [
    {
     "name": "stdout",
     "output_type": "stream",
     "text": [
      "possible_word = 'н'\n",
      "possible_word = 'н'\n",
      "possible_word = 'н'\n"
     ]
    }
   ],
   "source": [
    "txt = 'В нашем pире Каждый охотник грозился достать аркебузу. p не стрелял пока не успокоится'\n",
    "\n",
    "res = s.scan_text(txt, filter_by_neighbours=False, min_neighbour_len=1)\n"
   ]
  },
  {
   "cell_type": "code",
   "execution_count": 3,
   "id": "d857e1e3",
   "metadata": {},
   "outputs": [
    {
     "data": {
      "text/html": [
       "<div>\n",
       "<style scoped>\n",
       "    .dataframe tbody tr th:only-of-type {\n",
       "        vertical-align: middle;\n",
       "    }\n",
       "\n",
       "    .dataframe tbody tr th {\n",
       "        vertical-align: top;\n",
       "    }\n",
       "\n",
       "    .dataframe thead th {\n",
       "        text-align: right;\n",
       "    }\n",
       "</style>\n",
       "<table border=\"1\" class=\"dataframe\">\n",
       "  <thead>\n",
       "    <tr style=\"text-align: right;\">\n",
       "      <th></th>\n",
       "      <th>start_pos</th>\n",
       "      <th>n_gram_size</th>\n",
       "      <th>word</th>\n",
       "      <th>vicinity</th>\n",
       "      <th>neighbour</th>\n",
       "      <th>context</th>\n",
       "      <th>level</th>\n",
       "    </tr>\n",
       "  </thead>\n",
       "  <tbody>\n",
       "  </tbody>\n",
       "</table>\n",
       "</div>"
      ],
      "text/plain": [
       "Empty DataFrame\n",
       "Columns: [start_pos, n_gram_size, word, vicinity, neighbour, context, level]\n",
       "Index: []"
      ]
     },
     "execution_count": 3,
     "metadata": {},
     "output_type": "execute_result"
    }
   ],
   "source": [
    "res"
   ]
  },
  {
   "cell_type": "code",
   "execution_count": 16,
   "id": "d9cd96a1",
   "metadata": {},
   "outputs": [
    {
     "data": {
      "text/plain": [
       "{'н'}"
      ]
     },
     "execution_count": 16,
     "metadata": {},
     "output_type": "execute_result"
    }
   ],
   "source": [
    "s.dictionary"
   ]
  }
 ],
 "metadata": {
  "kernelspec": {
   "display_name": "Python 3",
   "language": "python",
   "name": "python3"
  },
  "language_info": {
   "codemirror_mode": {
    "name": "ipython",
    "version": 3
   },
   "file_extension": ".py",
   "mimetype": "text/x-python",
   "name": "python",
   "nbconvert_exporter": "python",
   "pygments_lexer": "ipython3",
   "version": "3.11.9"
  }
 },
 "nbformat": 4,
 "nbformat_minor": 5
}
