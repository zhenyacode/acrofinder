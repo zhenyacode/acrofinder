{
 "cells": [
  {
   "cell_type": "code",
   "execution_count": 1,
   "id": "88a75a6a",
   "metadata": {},
   "outputs": [],
   "source": [
    "import sys\n",
    "from pathlib import Path\n",
    "\n",
    "# Добавляем папку src в sys.path\n",
    "src_path = Path().resolve().parent / \"src\"\n",
    "\n",
    "sys.path.insert(0, str(src_path))\n",
    "\n",
    "from acrofinder.scanner import Scanner\n",
    "\n",
    "s = Scanner(min_word_size=4, dictionary_name='wordforms_20k.txt')"
   ]
  },
  {
   "cell_type": "code",
   "execution_count": null,
   "id": "138578d5",
   "metadata": {},
   "outputs": [],
   "source": [
    "txt = 'В нашем мире Каждый охотник грозился достать аркебузу. И не стрелял пока не успокоится'\n",
    "\n",
    "res = s.scan_text(txt, filter_by_neighbours=True, min_neighbour_len=1)\n"
   ]
  },
  {
   "cell_type": "code",
   "execution_count": 3,
   "id": "d857e1e3",
   "metadata": {},
   "outputs": [
    {
     "data": {
      "text/html": [
       "<div>\n",
       "<style scoped>\n",
       "    .dataframe tbody tr th:only-of-type {\n",
       "        vertical-align: middle;\n",
       "    }\n",
       "\n",
       "    .dataframe tbody tr th {\n",
       "        vertical-align: top;\n",
       "    }\n",
       "\n",
       "    .dataframe thead th {\n",
       "        text-align: right;\n",
       "    }\n",
       "</style>\n",
       "<table border=\"1\" class=\"dataframe\">\n",
       "  <thead>\n",
       "    <tr style=\"text-align: right;\">\n",
       "      <th></th>\n",
       "      <th>start_pos</th>\n",
       "      <th>n_gram_size</th>\n",
       "      <th>word</th>\n",
       "      <th>vicinity</th>\n",
       "      <th>context</th>\n",
       "      <th>level</th>\n",
       "    </tr>\n",
       "  </thead>\n",
       "  <tbody>\n",
       "    <tr>\n",
       "      <th>0</th>\n",
       "      <td>13</td>\n",
       "      <td>5</td>\n",
       "      <td>когда</td>\n",
       "      <td>__внм_КОГДА_инспн</td>\n",
       "      <td>Каждый охотник грозился достать аркебузу. И не...</td>\n",
       "      <td>word</td>\n",
       "    </tr>\n",
       "  </tbody>\n",
       "</table>\n",
       "</div>"
      ],
      "text/plain": [
       "   start_pos  n_gram_size   word           vicinity  \\\n",
       "0         13            5  когда  __внм_КОГДА_инспн   \n",
       "\n",
       "                                             context level  \n",
       "0  Каждый охотник грозился достать аркебузу. И не...  word  "
      ]
     },
     "execution_count": 3,
     "metadata": {},
     "output_type": "execute_result"
    }
   ],
   "source": [
    "res"
   ]
  },
  {
   "cell_type": "code",
   "execution_count": null,
   "id": "d9cd96a1",
   "metadata": {},
   "outputs": [],
   "source": []
  }
 ],
 "metadata": {
  "kernelspec": {
   "display_name": "Python 3",
   "language": "python",
   "name": "python3"
  },
  "language_info": {
   "codemirror_mode": {
    "name": "ipython",
    "version": 3
   },
   "file_extension": ".py",
   "mimetype": "text/x-python",
   "name": "python",
   "nbconvert_exporter": "python",
   "pygments_lexer": "ipython3",
   "version": "3.11.9"
  }
 },
 "nbformat": 4,
 "nbformat_minor": 5
}
