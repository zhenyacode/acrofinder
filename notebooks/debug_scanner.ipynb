{
 "cells": [
  {
   "cell_type": "code",
   "execution_count": null,
   "id": "96aa0ce0",
   "metadata": {},
   "outputs": [],
   "source": [
    "import sys\n",
    "from pathlib import Path\n",
    "\n",
    "# Добавляем папку src в sys.path\n",
    "src_path = Path().resolve().parent / \"src\"\n",
    "\n",
    "sys.path.insert(0, str(src_path))\n",
    "\n",
    "from acrofinder.scanner import Scanner\n",
    "\n",
    "s = Scanner(min_word_size=1, dictionary_name='wordforms_20k.txt', custom_dict_search=['н'])\n",
    "\n"
   ]
  },
  {
   "cell_type": "code",
   "execution_count": null,
   "id": "8d8d008d",
   "metadata": {},
   "outputs": [],
   "source": [
    "txt = 'В нашем pире Каждый охотник грозился достать аркебузу. p не стрелял пока не успокоится'\n",
    "\n",
    "res = s.scan_text(txt, filter_by_neighbours=False, min_neighbour_len=1)\n"
   ]
  }
 ],
 "metadata": {
  "kernelspec": {
   "display_name": "Python 3",
   "language": "python",
   "name": "python3"
  },
  "language_info": {
   "name": "python",
   "version": "3.11.9"
  }
 },
 "nbformat": 4,
 "nbformat_minor": 5
}
